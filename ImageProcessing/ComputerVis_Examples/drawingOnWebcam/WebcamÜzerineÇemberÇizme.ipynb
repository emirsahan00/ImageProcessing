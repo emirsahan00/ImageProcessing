{
 "cells": [
  {
   "attachments": {},
   "cell_type": "markdown",
   "metadata": {},
   "source": [
    "WEBCAM ÜZERİNE ŞEKİL ÇİZME(CEMBER)"
   ]
  },
  {
   "cell_type": "code",
   "execution_count": null,
   "metadata": {},
   "outputs": [],
   "source": [
    "import cv2 #gerekli kütüphanelerimizi aktarıyoruz\n",
    "\n",
    "def draw_circle(event,x,y,flag,param): #çember çizme fonksiyonumuzu oluştururuz\n",
    "    global center,clicked #global değişkenlerimizi tanımlarız\n",
    "\n",
    "    if event == cv2.EVENT_LBUTTONDOWN: #eğer sol tık tıklanmışsa \n",
    "        center = (x,y)\n",
    "        clicked = False\n",
    "    if event == cv2.EVENT_LBUTTONUP: #eğer sol tık tıklanıp bırakılmışsa\n",
    "        clicked = True\n",
    "\n",
    "center = (0,0)\n",
    "clicked = False\n",
    "\n",
    "cv2.namedWindow('test')  #pencere oluştururz\n",
    "cv2.setMouseCallback('test',draw_circle)  #mouse olaylarını yürüten fonksiyonumuza gerekli parametreleri veririz\n",
    "\n",
    "cap = cv2.VideoCapture(0) #framelerimizi webcamden alırız\n",
    "\n",
    "while True:\n",
    "    ret,frame = cap.read() #framelerimizi  okuruz\n",
    "    frame = cv2.flip(frame,1) #frameleri y eksenine göree yansıtırız\n",
    "\n",
    "    if clicked == True: #eğerki sol tık tıklanıp bırakılmışsa o koordinatlara içi boş bir çember çizdiririz\n",
    "        cv2.circle(frame,center,55,(0,0,0),2)\n",
    "\n",
    "    cv2.imshow('test',frame) #framelerimizi gösteririz\n",
    "    if cv2.waitKey(1)==ord('q'): #q tuşuna basılınca döngümüzü kırarız\n",
    "        break\n",
    "\n",
    "cap.release() #frameleri serbest bırakırız\n",
    "cv2.destroyAllWindows() #tüm pencereleri kapatırız\n"
   ]
  }
 ],
 "metadata": {
  "kernelspec": {
   "display_name": "Python 3",
   "language": "python",
   "name": "python3"
  },
  "language_info": {
   "name": "python",
   "version": "3.11.0"
  },
  "orig_nbformat": 4
 },
 "nbformat": 4,
 "nbformat_minor": 2
}
