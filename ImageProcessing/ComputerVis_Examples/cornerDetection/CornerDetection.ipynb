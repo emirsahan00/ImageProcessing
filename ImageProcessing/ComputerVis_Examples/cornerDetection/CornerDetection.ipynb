{
 "cells": [
  {
   "attachments": {},
   "cell_type": "markdown",
   "metadata": {},
   "source": [
    "CORNER DETECTION"
   ]
  },
  {
   "cell_type": "code",
   "execution_count": null,
   "metadata": {},
   "outputs": [],
   "source": [
    "import cv2 #gerekli kütüphanelerimizi aktarıyoruz\n",
    "import matplotlib.pyplot as plt\n",
    "%matplotlib inline\n",
    "import numpy as np\n",
    "\n",
    "flat_chess = cv2.imread('d:CV_WithPython/DATA/flat_chessboard.png')\n",
    "flat_chess = cv2.cvtColor(flat_chess,cv2.COLOR_BGR2RGB)\n",
    "gray_flat_chess = cv2.cvtColor(flat_chess,cv2.COLOR_BGR2GRAY)\n",
    "\n",
    "real_flat_chess = cv2.imread('d:CV_WithPython/DATA/real_chessboard.jpg')\n",
    "real_flat_chess = cv2.cvtColor(real_flat_chess,cv2.COLOR_BGR2RGB)\n",
    "gray_real_chess = cv2.cvtColor(real_flat_chess,cv2.COLOR_BGR2GRAY)\n",
    "\n",
    "gray = np.float32(gray_flat_chess)  #cv2.cornerHarris değişkeni src değerini float alıyor bu denenle veri tipini değiştirdik\n",
    "dst = cv2.cornerHarris(gray,blockSize=2,ksize=3,k=0.04) # (source,komşu piksel sayısı,kernelsize,sabit sayı)\n",
    "dst = cv2.dilate(dst,None) #morfolojik işlem uygula\n",
    "\n",
    "flat_chess[dst>0.01*dst.max()] = [255,0,0] #dst değişkenindeki max değerinin yüzde birinden büyük olan değerlerin rengini kırmızı yap\n",
    "#plt.imshow(flat_chess)\n",
    "\n",
    "plt.imshow(gray_real_chess,cmap='gray')\n",
    "\n",
    "gray_real = np.float32(gray_real_chess)  #cv2.cornerHarris değişkeni src değerini float alıyor bu denenle veri tipini değiştirdik\n",
    "dst_real = cv2.cornerHarris(gray_real,blockSize=2,ksize=3,k=0.04)  # (source,komşu piksel sayısı,kernelsize,sabit sayı)\n",
    "dst_real = cv2.dilate(dst_real,None) #morfolojik işlem uygula\n",
    "\n",
    "real_flat_chess[dst_real>0.01*dst_real.max()] = [255,0,0] #dsreal değişkenindeki max değerinin yüzde birinden büyük olan değerlerin rengini kırmızı yap\n",
    "plt.imshow(real_flat_chess) \n"
   ]
  },
  {
   "cell_type": "code",
   "execution_count": null,
   "metadata": {},
   "outputs": [],
   "source": [
    "import cv2  #gerekli kütüphanelerimizi aktarıyoruz\n",
    "import matplotlib.pyplot as plt\n",
    "%matplotlib inline\n",
    "import numpy as np\n",
    "\n",
    "real_flat_chess = cv2.imread('d:CV_WithPython/DATA/real_chessboard.jpg')  #resmimizi diskten alıyoruz \n",
    "real_flat_chess = cv2.cvtColor(real_flat_chess,cv2.COLOR_BGR2RGB)  #resmimizi BGR formatından RGB formatına çeviriyoruz\n",
    "gray_real_chess = cv2.cvtColor(real_flat_chess,cv2.COLOR_BGR2GRAY) #resmimizi gray formatına tek li boyuta düşürdük\n",
    "\n",
    "corners = cv2.goodFeaturesToTrack(gray_real_chess,64,0.01,10) #(source,max köşe sayısı,qualityLevel,minDistance)\n",
    "corners = np.int0(corners)  #integer veri tipine dönüştürüuoruz\n",
    "\n",
    "for i in corners:  #köşelerin içinde gezinecek döngü oluşturuyoruz\n",
    "    x,y=i.ravel() #ravel fonksiyonu ile tek boyutlu bir diziye çeviririz ve x,y değişkeni olarak atarız\n",
    "    cv2.circle(real_flat_chess,(x,y),3,255,-1) #x,y koordinatlarına kırmızı bir çeçmber çizdiririz\n",
    "    plt.imshow(real_flat_chess) #imshowlarız\n",
    "\n"
   ]
  }
 ],
 "metadata": {
  "kernelspec": {
   "display_name": "Python 3",
   "language": "python",
   "name": "python3"
  },
  "language_info": {
   "name": "python",
   "version": "3.11.0"
  },
  "orig_nbformat": 4
 },
 "nbformat": 4,
 "nbformat_minor": 2
}
