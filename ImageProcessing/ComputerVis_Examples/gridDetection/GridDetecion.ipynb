{
 "cells": [
  {
   "attachments": {},
   "cell_type": "markdown",
   "metadata": {},
   "source": [
    "GRID DETECTION"
   ]
  },
  {
   "cell_type": "code",
   "execution_count": null,
   "metadata": {},
   "outputs": [],
   "source": [
    "import cv2  #gerekli kütüphanelerimizi aktarıyoruz\n",
    "import matplotlib.pyplot as plt\n",
    "%matplotlib inline\n",
    "import numpy as np\n",
    "\n",
    "foto = cv2.imread('d:CV_WithPython/DATA/flat_chessboard.png') #resimlerimizi diskten aldık\n",
    "foto2= cv2.imread('d:CV_WithPython/DATA/dot_grid.png')\n",
    "\n",
    "found,corners = cv2.findChessboardCorners(foto,(7,7)) #fotoğraftaki kareler 64 (8x8) oldugu için 7,7  (köşe bulursa found = True) 49 tane köşe koordinatı döndürüldü\n",
    "found2,corners2 = cv2.findCirclesGrid(foto2,(10,10),cv2.CALIB_CB_SYMMETRIC_GRID) #fotoğraftaki daireler 100 (10x10) oldugu için 10,10 (köşe bulursa found = True) 100 tane köşe koordinatı döndürüldü\n",
    "\n",
    "foto_copy = foto.copy()  #resimlerimizi kopyaladık\n",
    "foto2_copy = foto2.copy()\n",
    "\n",
    "result = cv2.drawChessboardCorners(foto_copy,(7,7),corners,found)  #corners değişkenlerinden gelen koordinatlar ile resimlerimizin üstüne çizdik\n",
    "result2 = cv2.drawChessboardCorners(foto2_copy,(10,10),corners2,found2)\n",
    "\n",
    "plt.imshow(foto_copy)  #çizimli resimlerimizi imshowladık\n",
    "plt.imshow(foto2_copy)"
   ]
  }
 ],
 "metadata": {
  "kernelspec": {
   "display_name": "Python 3",
   "language": "python",
   "name": "python3"
  },
  "language_info": {
   "name": "python",
   "version": "3.11.0"
  },
  "orig_nbformat": 4
 },
 "nbformat": 4,
 "nbformat_minor": 2
}
