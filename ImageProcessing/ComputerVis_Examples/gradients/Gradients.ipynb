{
 "cells": [
  {
   "attachments": {},
   "cell_type": "markdown",
   "metadata": {},
   "source": [
    "GRADIENTS"
   ]
  },
  {
   "cell_type": "code",
   "execution_count": null,
   "metadata": {},
   "outputs": [],
   "source": [
    "import cv2  #gerekli kütüphanelerimizi aktarıyoruz\n",
    "import numpy as np\n",
    "import matplotlib.pyplot as plt\n",
    "%matplotlib inline\n",
    "\n",
    "def display_img(img):\n",
    "    fig = plt.figure(figsize=(12,10))\n",
    "    ax=fig.add_subplot(111)\n",
    "    ax.imshow(img,cmap='gray')\n",
    "\n",
    "img = cv2.imread(\"d:CV_WithPython/DATA/sudokuu.jpg\",0) \n",
    "\n",
    "#sobel fonksiyonu x ve y ekseni olmak üzere bizim belirlediğimizekseni belirginleştiriyor \n",
    "sobelx = cv2.Sobel(img,cv2.CV_64F,1,0,ksize=5) #(src,duyarlılık,x ekseni,y ekseni,kernelsize)\n",
    "sobely = cv2.Sobel(img,cv2.CV_64F,0,1,ksize=5)  #(src,duyarlılık,x ekseni,y ekseni,kernelsize)\n",
    "laplacian = cv2.Laplacian(img,cv2.CV_64F)\n",
    "#display_img(sobelx) \n",
    "#display_img(laplacian)  #bu fonksiyon hem x hem y eksenini belirginleştirir.\n",
    "\n",
    "blended = cv2.addWeighted(sobelx,0.5,sobely,0.5,gamma=0) #iki resmi birleştiriyoruz eşit oranda\n",
    "display_img(blended)\n",
    "\n",
    "ret,thresh = cv2.threshold(blended,50,255,cv2.THRESH_BINARY)\n",
    "kernel = np.ones((4,4),np.uint8)\n",
    "gradient = cv2.morphologyEx(blended,cv2.MORPH_GRADIENT,kernel)\n",
    "display_img(gradient)"
   ]
  }
 ],
 "metadata": {
  "kernelspec": {
   "display_name": "Python 3",
   "language": "python",
   "name": "python3"
  },
  "language_info": {
   "name": "python",
   "version": "3.11.0"
  },
  "orig_nbformat": 4
 },
 "nbformat": 4,
 "nbformat_minor": 2
}
