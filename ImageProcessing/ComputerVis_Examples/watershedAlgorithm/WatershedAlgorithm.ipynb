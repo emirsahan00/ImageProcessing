{
 "cells": [
  {
   "attachments": {},
   "cell_type": "markdown",
   "metadata": {},
   "source": [
    "WATERSHED ALGORITHM"
   ]
  },
  {
   "cell_type": "code",
   "execution_count": null,
   "metadata": {},
   "outputs": [],
   "source": [
    "# gerekli paketleri(kütüphaneleri) içe aktarıyoruz\n",
    "import numpy as np\n",
    "import cv2\n",
    "import matplotlib.pyplot as plt\n",
    "%matplotlib inline\n",
    "\n",
    "def display(img,cmap=None):  #matplotlib kütüphanesini kullanarak bir takım işlemlerden geçmiş veya geçmemiş resimlerimizi göstermek için display adlı bir fonksiyon oluştururuz\n",
    "    fig = plt.figure(figsize=(10,8))\n",
    "    ax = fig.add_subplot(111)\n",
    "    ax.imshow(img,cmap=cmap)\n",
    "\n",
    "image = cv2.imread(\"D:/Coin_Counting/src/coin.jpg\")  #giriş görüntümüzü diskten alıyoruzz\n",
    "filtered = cv2.pyrMeanShiftFiltering(image, 13, 51)  #giriş görüntümüze blurlama filtresi uygulayıp gürültüleri ortadan kaldırıyoruz\n",
    "\n",
    "gray = cv2.cvtColor(filtered,cv2.COLOR_BGR2GRAY)  #filtrelenmiş görüntümüzü gri tonuna çeviriyoruz\n",
    "ret, thresh = cv2.threshold(gray,0,255,cv2.THRESH_BINARY_INV+cv2.THRESH_OTSU)  #gri resmimize threshold uyguluyoruz \n",
    "\n",
    "kernel = np.ones((3,3),np.uint8)  # 3'e 3'lük 0'lardan oluşan bir kernel oluşturuyoruz\n",
    "opening = cv2.morphologyEx(thresh,cv2.MORPH_OPEN,kernel, iterations = 2)  #threshold uygulanmış resmin gürültülerini azaltıyoruz ve daha net bir görüntü elde ediyoruz.\n",
    "sure_bg = cv2.dilate(opening,kernel,iterations=3)  #yeterli yineleme sayısı(iterations) vererek openingten gelen piksel değerlerinideki beyaz değerlerinin ağırlığını artırıyoruz\n",
    "\n",
    "dist_transform = cv2.distanceTransform(opening,cv2.DIST_L2,5) #görüntüdeki nesnelerin kenarlarını belirlemek veya nesneler arasındaki uzaklıkları hesaplamak için bu işlemi yaptık\n",
    "ret, sure_fg = cv2.threshold(dist_transform,0.7*dist_transform.max(),255,0) #dist_transformden gelen değerin %70inin altındaki değerleri 0 üstündeki değerleri ise 255 değerine eşitliyoruz \n",
    "\n",
    "sure_fg = np.uint8(sure_fg) #sure_fg değişkenin veri tipini integer yapıyoruz\n",
    "unknown = cv2.subtract(sure_bg,sure_fg)  #sure_bg görüntüsünden sure_fg görüntüsünü çıkardık.(iki görüntü arasındaki piksel değerlerini çıkartmayı sağlar)\n",
    "\n",
    "ret, markers = cv2.connectedComponents(sure_fg) #sure_fg görüntüsündeki bağlı değişkenleri bulmamızı sağlar (yani her bir parayı)\n",
    "markers = markers+1 #markers görüntüsündeki tüm piksellere 1 eklenir \n",
    "markers[unknown==255] = 0 #unknown görüntüsündeki piksel değerleri 255 olan değerleri markers görüntüsünde 0'a eşitleriz.\n",
    "\n",
    "markers = cv2.watershed(image,markers) #nesneleri ve arka planı ayrıştırırız\n",
    "image[markers == -1] = [0, 0, 255]   #markers görüntüsündeki işaretsiz yani işlenmeyen pikselleri kırmızı değerine eşitleriz\n",
    "num_coins = len(np.unique(markers)) - 1\n",
    "\n",
    "\n",
    "print(\"Madeni para adeti :\",num_coins) #para adetini yazdırırırz\n",
    "\n",
    "display(image,cmap='gray') #resmimizi gösteririz\n",
    "display(dist_transform,cmap='gray')\n",
    "display(sure_fg,cmap='gray')\n",
    "display(unknown,cmap='gray')\n",
    "display(markers)"
   ]
  }
 ],
 "metadata": {
  "kernelspec": {
   "display_name": "Python 3",
   "language": "python",
   "name": "python3"
  },
  "language_info": {
   "name": "python",
   "version": "3.11.0"
  },
  "orig_nbformat": 4
 },
 "nbformat": 4,
 "nbformat_minor": 2
}
