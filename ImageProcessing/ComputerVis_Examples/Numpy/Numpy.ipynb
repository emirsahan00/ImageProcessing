{
 "cells": [
  {
   "attachments": {},
   "cell_type": "markdown",
   "metadata": {},
   "source": [
    "NUMPY"
   ]
  },
  {
   "cell_type": "code",
   "execution_count": null,
   "metadata": {},
   "outputs": [],
   "source": [
    "#gerekli kütüphanelerimizi aktarıyoruz\n",
    "import numpy as np\n",
    "\n",
    "liste = np.arange(0,12,2)\n",
    "liste1 = np.zeros((5,4))\n",
    "liste2 = np.ones((3,3))\n",
    "liste3 = np.random.randint(0,100,12) #0'dan 100'e 12 adet\n",
    "print(\"liste : \",liste3)\n",
    "print(\"En yüksek eleman bu indexte :\",liste3.argmax())\n",
    "print(\"En düşük eleman bu indexte :\",liste3.argmin())\n",
    "print(\"Listenin ortalamsı : \",liste3.mean())\n",
    "rliste3 = liste3.reshape((2,6))\n",
    "print(rliste3)\n",
    "mat = np.arange(0,100).reshape(10,10)"
   ]
  }
 ],
 "metadata": {
  "kernelspec": {
   "display_name": "Python 3",
   "language": "python",
   "name": "python3"
  },
  "language_info": {
   "name": "python",
   "version": "3.11.0"
  },
  "orig_nbformat": 4
 },
 "nbformat": 4,
 "nbformat_minor": 2
}
