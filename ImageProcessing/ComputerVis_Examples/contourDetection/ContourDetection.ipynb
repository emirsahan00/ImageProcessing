{
 "cells": [
  {
   "attachments": {},
   "cell_type": "markdown",
   "metadata": {},
   "source": [
    "CONTOUR DETECTION"
   ]
  },
  {
   "cell_type": "code",
   "execution_count": null,
   "metadata": {},
   "outputs": [],
   "source": [
    "import cv2  #gerekli kütüphanelerimizi aktarıyoruz\n",
    "import matplotlib.pyplot as plt\n",
    "%matplotlib inline\n",
    "import numpy as np\n",
    "\n",
    "img = cv2.imread('d:CV_WithPython/DATA/internal_external.png',0) #resmimizi diskten alıp gri formata dönüştürdük\n",
    "ret,thresh = cv2.threshold(img,127,255,cv2.THRESH_BINARY)  #threshold işlemi uyguladık\n",
    " \n",
    "contours,_ = cv2.findContours(img,cv2.RETR_CCOMP,cv2.CHAIN_APPROX_SIMPLE) #threshold uygulanmış resmimizdeki konturları buldul\n",
    "plt.imshow(thresh,cmap='gray')  \n",
    "\n",
    "external_contours = np.zeros(img.shape) #giriş görüntümüz boyutunda bir siyah bir görüntü oluşturduk\n",
    "\n",
    "for i in range(len(contours)): #konturlar içinde gezindik\n",
    "    \n",
    "    cv2.drawContours(external_contours,contours,i,255,-1) #(nereye çizilcek,kontur koordinatları,i,renk.kalınlık(-1 ise içi dolu))\n",
    "\n",
    "plt.imshow(external_contours,cmap='gray')\n",
    "\n"
   ]
  }
 ],
 "metadata": {
  "kernelspec": {
   "display_name": "Python 3",
   "language": "python",
   "name": "python3"
  },
  "language_info": {
   "name": "python",
   "version": "3.11.0"
  },
  "orig_nbformat": 4
 },
 "nbformat": 4,
 "nbformat_minor": 2
}
