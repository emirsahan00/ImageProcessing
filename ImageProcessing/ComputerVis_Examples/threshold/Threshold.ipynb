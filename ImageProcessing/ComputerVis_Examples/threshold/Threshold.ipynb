{
 "cells": [
  {
   "attachments": {},
   "cell_type": "markdown",
   "metadata": {},
   "source": [
    "THRESHOLD"
   ]
  },
  {
   "cell_type": "code",
   "execution_count": null,
   "metadata": {},
   "outputs": [],
   "source": [
    "#gerekli kütüphanelerimizi aktarıyoruz\n",
    "import cv2\n",
    "\n",
    "foto = cv2.imread(\"d:CV_WithPython/DATA/sudoku.jpg\") #resimlerimizi diskten alıyoruz\n",
    "foto = cv2.cvtColor(foto,cv2.COLOR_BGR2GRAY)\n",
    " \n",
    "ret,thresh1 = cv2.threshold(foto,127,255,cv2.THRESH_BINARY)  #127 değerinin alrındakileri 0 a üstündeki değerleri 255e eşitleriz \n",
    "thresh2 = cv2.adaptiveThreshold(foto,255,cv2.ADAPTIVE_THRESH_MEAN_C,cv2.THRESH_BINARY,11,8)  #3.deger piksellerin ortalamsını alarak thresh yapar '11' komşu piksele bakmasını söyledik 8 sabit bir sayı\n",
    "    \n",
    "cv2.imshow(\"foto\",foto)                             #ADAPTIVE_THRESH_GAUSSIAN_C de hemen hemen aynı fakat hesaplanma yöntemleri farklı onu da kullanabilirsin\n",
    "cv2.imshow(\"th1\",thresh1)\n",
    "cv2.imshow(\"th2\",thresh2)\n",
    "\n",
    "cv2.waitKey(0)\n",
    "cv2.destroyAllWindows()  #tüm pencereleri kapatıyoruz"
   ]
  }
 ],
 "metadata": {
  "kernelspec": {
   "display_name": "Python 3",
   "language": "python",
   "name": "python3"
  },
  "language_info": {
   "name": "python",
   "version": "3.11.0"
  },
  "orig_nbformat": 4
 },
 "nbformat": 4,
 "nbformat_minor": 2
}
