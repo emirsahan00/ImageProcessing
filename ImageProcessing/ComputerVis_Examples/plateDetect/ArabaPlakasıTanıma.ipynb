{
 "cells": [
  {
   "attachments": {},
   "cell_type": "markdown",
   "metadata": {},
   "source": [
    "ARABA PLAKASI TANIMA"
   ]
  },
  {
   "cell_type": "code",
   "execution_count": null,
   "metadata": {},
   "outputs": [],
   "source": [
    "# gerekli paketleri(kütüphaneleri) içe aktarıyoruz\n",
    "import numpy as np\n",
    "import cv2\n",
    "import matplotlib.pyplot as plt\n",
    "%matplotlib inline\n",
    "\n",
    "def display(img):  #matplotlib kütüphanesini kullanarak bir takım işlemlerden geçmiş veya geçmemiş resimlerimizi göstermek için display adlı bir fonksiyon oluştururuz\n",
    "    fig = plt.figure(figsize=(10,8))\n",
    "    ax = fig.add_subplot(111)\n",
    "    new_img = cv2.cvtColor(img,cv2.COLOR_BGR2RGB)\n",
    "    ax.imshow(new_img)\n",
    "\n",
    "\n",
    "car = cv2.imread('d:CV_WithPython/DATA/car_plate.jpg') #araba görüntümüzü diskten alıyoruz\n",
    "\n",
    "plate_cascade = cv2.CascadeClassifier('D:/CV_WithPython/DATA/haarcascades/haarcascade_russian_plate_number.xml')\n",
    "\n",
    "def detect_plate(img):  #plaka tespitinin dinamik olması için fonksiyon oluşturuyoruz\n",
    "    plate_img = img.copy() #gelen resmin kopyasını plate_img değişkenine atıyoruz\n",
    "    plate_rects = plate_cascade.detectMultiScale(plate_img,scaleFactor =1.3) #plaka kısmının koordinatlarını döndürüyoruz\n",
    "\n",
    "    for (x,y,w,h) in plate_rects:  #koordinatları cv2.rectangle fonksiyonu ile sınırlayıcı bir etiket atıyoruz\n",
    "        cv2.rectangle(plate_img,(x,y),(x+w,y+h),(0,0,0),4)\n",
    "    return plate_img #plate_img'i döndürüyoruz\n",
    "\n",
    "\n",
    "def detect_and_blur_plate(img): #plaka blurlamak için fonksiyon oluşturuyoruz\n",
    "    plate_img=img.copy()  #gelen resmin kopyasını plate_img değişkenine atıyoruz\n",
    "    roi =img.copy() #gelen resmin kopyasını roi değişkenine atıyoruz\n",
    "\n",
    "    \n",
    "    plate_rects = plate_cascade.detectMultiScale(plate_img,scaleFactor =1.3)  #plaka kısmının koordinatlarını döndürüyoruz\n",
    "     \n",
    "    for (x,y,w,h) in plate_rects:  #koordinatları belirlenen yeri blurlıyoruz\n",
    "        roi=roi[y:y+h,x:x+w]\n",
    "        blurred_roi = cv2.medianBlur(roi,25) \n",
    "        plate_img[y:y+h,x:x+w] = blurred_roi\n",
    "\n",
    "    return plate_img #plate_img'i döndürüyoruz\n",
    "\n",
    "result =detect_plate(car)\n",
    "result2=detect_and_blur_plate(car)\n",
    "\n",
    "plt.imshow(result)\n",
    "#plt.imshow(result2)"
   ]
  }
 ],
 "metadata": {
  "kernelspec": {
   "display_name": "Python 3",
   "language": "python",
   "name": "python3"
  },
  "language_info": {
   "name": "python",
   "version": "3.11.0"
  },
  "orig_nbformat": 4
 },
 "nbformat": 4,
 "nbformat_minor": 2
}
