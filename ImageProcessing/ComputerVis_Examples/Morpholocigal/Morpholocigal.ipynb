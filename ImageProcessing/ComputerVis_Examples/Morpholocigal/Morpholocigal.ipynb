{
 "cells": [
  {
   "attachments": {},
   "cell_type": "markdown",
   "metadata": {},
   "source": [
    "MORPHOLOCIGAL "
   ]
  },
  {
   "cell_type": "code",
   "execution_count": null,
   "metadata": {},
   "outputs": [],
   "source": [
    "#gerekli kütüphanelerimizi aktarıyoruz#gerekli kütüphanelerimizi aktarıyoruz\n",
    "import cv2\n",
    "import numpy as np\n",
    "import matplotlib.pyplot as plt\n",
    "%matplotlib inline\n",
    "\n",
    "def load_img():\n",
    "    blank_img = np.zeros((600,600))\n",
    "    font = cv2.FONT_HERSHEY_SIMPLEX\n",
    "    cv2.putText(blank_img,\"ABDE\",(50,300),font,5,(255,255,255),thickness=13)\n",
    "    return blank_img\n",
    "\n",
    "def display_img(img):\n",
    "    fig = plt.figure(figsize=(12,10))\n",
    "    ax=fig.add_subplot(111)\n",
    "    ax.imshow(img,cmap='gray')\n",
    "\n",
    "img = load_img()\n",
    "#display_img(img)\n",
    "\n",
    "kernel = np.ones((5,5),dtype=np.uint8)\n",
    "\n",
    "result = cv2.erode(img,kernel,iterations=2)\n",
    "#display_img(result)\n",
    "\n",
    "white_noise = np.random.randint(0,2,size=(600,600))\n",
    "#display_img(white_noise)\n",
    "white_noise = white_noise * 255\n",
    "\n",
    "noise_img = white_noise + img  \n",
    "#display_img(noise_img)\n",
    "\n",
    "opening = cv2.morphologyEx(noise_img,cv2.MORPH_OPEN,kernel)\n",
    "#display_img(opening)\n",
    "\n",
    "closing = cv2.morphologyEx(noise_img,cv2.MORPH_CLOSE,kernel)\n",
    "#display_img(closing)\n",
    "\n",
    " "
   ]
  }
 ],
 "metadata": {
  "kernelspec": {
   "display_name": "Python 3",
   "language": "python",
   "name": "python3"
  },
  "language_info": {
   "name": "python",
   "version": "3.11.0"
  },
  "orig_nbformat": 4
 },
 "nbformat": 4,
 "nbformat_minor": 2
}
