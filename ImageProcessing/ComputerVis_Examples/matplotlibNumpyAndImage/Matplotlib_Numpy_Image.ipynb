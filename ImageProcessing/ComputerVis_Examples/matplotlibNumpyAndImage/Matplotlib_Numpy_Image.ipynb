{
 "cells": [
  {
   "attachments": {},
   "cell_type": "markdown",
   "metadata": {},
   "source": [
    "MATPLOTLİB & NUMPY & IMAGE"
   ]
  },
  {
   "cell_type": "code",
   "execution_count": null,
   "metadata": {},
   "outputs": [],
   "source": [
    "#gerekli kütüphanelerimizi aktarıyoruz\n",
    "import numpy as np\n",
    "import matplotlib.pyplot as plt\n",
    "%matplotlib inline \n",
    "from PIL import Image\n",
    "\n",
    "pic = Image.open(\"D:CV_WithPython/DATA/elma.jpg\")\n",
    "pic_arr = np.asarray(pic) #fotoğrafımızı array'e dönüştürdük.\n",
    "print(pic_arr.shape)\n",
    "pic_red = pic_arr.copy()\n",
    "\n",
    "#plt.imshow(pic_arr)\n",
    "plt.imshow(pic_red[:,:,0],cmap='gray') #kırmızı kanal için\n",
    "plt.imshow(pic_red[:,:,1],cmap='gray') #yeşil kanal için\n",
    "plt.imshow(pic_red[:,:,2],cmap='gray') #mavi kanal için\n",
    "\n",
    "pic_red[:,:,1] = 0 # yeşil ve mavi renk kanalarını sıfırlarız\n",
    "pic_red[:,:,2] = 0\n",
    "plt.imshow(pic_red)\n",
    "plt.imshow(pic)"
   ]
  }
 ],
 "metadata": {
  "kernelspec": {
   "display_name": "Python 3",
   "language": "python",
   "name": "python3"
  },
  "language_info": {
   "name": "python",
   "version": "3.11.0"
  },
  "orig_nbformat": 4
 },
 "nbformat": 4,
 "nbformat_minor": 2
}
