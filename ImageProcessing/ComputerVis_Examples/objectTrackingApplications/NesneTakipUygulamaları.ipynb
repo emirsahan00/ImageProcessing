{
 "cells": [
  {
   "attachments": {},
   "cell_type": "markdown",
   "metadata": {},
   "source": [
    "NESNE TAKİP UYGULAMALARI"
   ]
  },
  {
   "cell_type": "code",
   "execution_count": null,
   "metadata": {},
   "outputs": [],
   "source": [
    "#paketleri(kütüphaneleri) içe aktarıyoruz\n",
    "import numpy as np \n",
    "import cv2\n",
    "\n",
    "corner_track_params = dict(maxCorners = 10,qualityLevel =0.3,minDistance =7,blockSize=7) #gerekli parametrelerimizi burda tanımladık\n",
    "lk_params = dict(winSize=(200,200),maxLevel=2,criteria=(cv2.TERM_CRITERIA_EPS | cv2.TERM_CRITERIA_COUNT,10,0.03))\n",
    "\n",
    "cap = cv2.VideoCapture(0)  #görüntümüzü webcamden alıyoruz\n",
    "ret,prev_frame= cap.read()  #ilk framemimizi okuyoruz\n",
    "prev_gray = cv2.cvtColor(prev_frame,cv2.COLOR_BGR2GRAY) #ilk framemizi gri tona çeviriyoruz\n",
    "\n",
    "prevPoints = cv2.goodFeaturesToTrack(prev_gray,mask=None,**corner_track_params) #ilk framedeki köşeleri buluruz \n",
    "mask = np.zeros_like(prev_frame) #bu görüntünün boyutunun eşleniği ama her elemanı sıfır olacak şeklinde bir maske oluşturuyoruz\n",
    "\n",
    "while True:  #sonsuz bir görüntü başlatıyoruz\n",
    "    ret,frame =cap.read() #sonraki framemizi okuyoruz\n",
    "    frame =cv2.flip(frame,1)  #framelerimizi y eksenine göre döndürüyoruz\n",
    "    frame_gray = cv2.cvtColor(frame,cv2.COLOR_BGR2GRAY)  #sonraki framemizi gri tona çeviriyoruz\n",
    "\n",
    "    nextPts,status,err = cv2.calcOpticalFlowPyrLK(prev_gray,frame_gray,prevPoints,None,**lk_params)  # bir karedeki noktaların diğer karedeki karşılıklarını buluruz\n",
    "    good_new = nextPts[status==1] \n",
    "    good_prev =prevPoints[status==1]\n",
    "\n",
    "    for i,(new,prev) in enumerate(zip(good_new,good_prev)): # her takip edilebilen nokta için bir çizgi ve noktaların etrafına ise de bir daire çizeriz.(mask ve frame üzerine)\n",
    "       \n",
    "        x_new,y_new = new.ravel()\n",
    "        x_prev,y_prev = prev.ravel()\n",
    "\n",
    "        mask = cv2.line(mask,(int(x_new),int(y_new)),(int(x_prev),int(y_prev)),(0,255,0),3)\n",
    "\n",
    "        frame =cv2.circle(frame,(int(x_new),int(y_new)),8,(0,0,255),-1)\n",
    "    img = cv2.add(frame,mask)\n",
    "\n",
    "    cv2.imshow(\"frame\",img) #framelerimizi gösteririrz\n",
    "\n",
    "    if cv2.waitKey(30) ==ord('q'): #q ' ya basılırsa döngüyü kır\n",
    "        break\n",
    "            \n",
    "    prev_gray = frame_gray.copy()  #frame_gray'i kopyalayıp prev_gray değişkenine atarız\n",
    "    prevPoints = good_new.reshape(-1,1,2)\n",
    "\n",
    "cv2.destroyAllWindows() #tüm pencereleri kapatıp\n",
    "cap.release() #video akışını serbest bırakırız\n"
   ]
  },
  {
   "cell_type": "code",
   "execution_count": null,
   "metadata": {},
   "outputs": [],
   "source": [
    "#paketleri(kütüphaneleri) içe aktarıyoruz\n",
    "import numpy as np \n",
    "import cv2\n",
    "\n",
    "\n",
    "cap = cv2.VideoCapture(0)  #görüntümüzü webcamden alıyoruz\n",
    "ret,frame1= cap.read()  #ilk framemimizi okuyoruz\n",
    "prvsImg = cv2.cvtColor(frame1,cv2.COLOR_BGR2GRAY) #ilk framemizi gri tona çeviriyoruz\n",
    "\n",
    "hsv_mask = np.zeros_like(frame1) #bu frame'in boyutunda ama her elemanı sıfır olacak şeklinde bir maske oluşturuyoruz\n",
    "hsv_mask[:,:,1] =255 #bu maskenin 1. kanalındaki değerleri 255 değerine eşitledik\n",
    "\n",
    "while True: #ikinci frame için döngü oluşturduk\n",
    "    ret,frame2 = cap.read()  #frameleri okuduk\n",
    "    nextImg = cv2.cvtColor(frame2,cv2.COLOR_BGR2GRAY)  #okuduğumuz frameleri gri formata çevirdik\n",
    "\n",
    "    flow = cv2.calcOpticalFlowFarneback(prvsImg,nextImg,None,0.5,3,15,3,5,1.2,0)  # bir karedeki hareketin diğer karedeki karşılığını hesaplıyoruz \n",
    "    mag,ang =cv2.cartToPolar(flow[:,:,0],flow[:,:,1],angleInDegrees=True)\n",
    "    hsv_mask[:,:,0] = ang/2\n",
    "    hsv_mask[:,:,2] = cv2.normalize(mag,None,0,255,cv2.NORM_MINMAX)\n",
    "    \n",
    "    bgr = cv2.cvtColor(hsv_mask,cv2.COLOR_HSV2BGR)   #HSV renk uzayından BGR renk uzayına dönüşüm yapıyoruz ve oluşturulan maskeyi renklendirip ve görüntülüyoruz\n",
    "    cv2.imshow(\"frame2\",bgr)\n",
    "    if cv2.waitKey(30) ==ord('q'): #'q' tuşuna basılırsa döngüyü kır\n",
    "        break\n",
    "\n",
    "    prvsImg=nextImg #loop oluşturarak bir önceki frame'i  bir sonraki frame'e eşitleyerek ilerliyoruz\n",
    "cv2.destroyAllWindows()  #tüm pencereleri kapatıp \n",
    "cap.release()  #video akışını serbest bırakıtık\n"
   ]
  }
 ],
 "metadata": {
  "kernelspec": {
   "display_name": "Python 3",
   "language": "python",
   "name": "python3"
  },
  "language_info": {
   "name": "python",
   "version": "3.11.0"
  },
  "orig_nbformat": 4
 },
 "nbformat": 4,
 "nbformat_minor": 2
}
