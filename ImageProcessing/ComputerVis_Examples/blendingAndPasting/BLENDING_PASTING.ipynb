{
 "cells": [
  {
   "attachments": {},
   "cell_type": "markdown",
   "metadata": {},
   "source": [
    "BLENDING & PASTING"
   ]
  },
  {
   "cell_type": "code",
   "execution_count": null,
   "metadata": {},
   "outputs": [],
   "source": [
    "#gerekli kütüphanelerimizi aktarıyoruz\n",
    "import cv2\n",
    "import matplotlib.pyplot as plt\n",
    "%matplotlib inline\n",
    "import numpy as np\n",
    "\n",
    "img1 = cv2.imread(\"d:CV_WithPython/DATA/kopek.jpg\")  #resimlerimizi diskten alıyoruz\n",
    "img2 = cv2.imread(\"d:CV_WithPython/DATA/warning.jpg\")\n",
    "\n",
    "\n",
    "img1_rgb = cv2.cvtColor(img1,cv2.COLOR_BGR2RGB)  #resimlerimizi bgr formatından rgb formatına çeviriyoruz\n",
    "img2_rgb = cv2.cvtColor(img2,cv2.COLOR_BGR2RGB)\n",
    "\n",
    "img1_rgb = cv2.resize(img1_rgb,(1200,1200))       #üst üste yapıştırmamız için aynı boyutta olmaları gerek\n",
    "img2_rgb = cv2.resize(img2_rgb,(1200,1200))\n",
    "\n",
    "blended = cv2.addWeighted(img1_rgb,0.5,img2_rgb,0.5,gamma=0)  #2. ve 4. değer hangi resmin daha baskın olacağını belirleyen parametreler  \n",
    "plt.imshow(blended)\n",
    "\n",
    "img2 = cv2.cvtColor(img2,cv2.COLOR_RGB2GRAY)\n",
    "\n",
    "plt.imshow(img2,cmap=\"gray\")\n",
    "mask_inv = cv2.bitwise_not(img2) #beyazları siyah siyahları beyaz yaptık\n",
    "#print (mask_inv.shape)\n",
    "plt.imshow(mask_inv,\"gray\")\n",
    "white_background = np.full((1372,2020,3),(255,255,255),dtype=np.uint8) #1372' 2020 olan 3 boyutlu beyaz bir resim oluşturuyoruz \n",
    "\n",
    "bk = cv2.bitwise_or(white_background,white_background,mask=mask_inv)\n",
    "plt.imshow(bk)\n",
    "\n",
    "print(mask_inv.shape)"
   ]
  }
 ],
 "metadata": {
  "kernelspec": {
   "display_name": "Python 3",
   "language": "python",
   "name": "python3"
  },
  "language_info": {
   "name": "python",
   "version": "3.11.0"
  },
  "orig_nbformat": 4
 },
 "nbformat": 4,
 "nbformat_minor": 2
}
