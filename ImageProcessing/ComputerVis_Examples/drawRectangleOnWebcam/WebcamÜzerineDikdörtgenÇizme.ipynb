{
 "cells": [
  {
   "attachments": {},
   "cell_type": "markdown",
   "metadata": {},
   "source": [
    "WEBCAM ÜZERİNE ŞEKİL ÇİZME(DIKDORTGEN)\n"
   ]
  },
  {
   "cell_type": "code",
   "execution_count": null,
   "metadata": {},
   "outputs": [],
   "source": [
    "import cv2 #gerekli kütüphanelerimizi aktarıyoruz\n",
    "\n",
    "def dikdortgen_ciz(event,x,y,flag,param):  #dikdörtgen çizme fonksiyonumuzu oluştururuz\n",
    "    global pt1,pt2,topLeft_clicked,botRight_clicked #global değişkenlerimizi tanımlarız\n",
    "\n",
    "    if event == cv2.EVENT_LBUTTONDOWN: #eğer mouse sol click tıklanmışsa\n",
    "\n",
    "        if topLeft_clicked == True & botRight_clicked == True:  #sağ ve sol click tıklanmışsa dikdörtgen çizdirilmiştir demektir ve default değerlere eşitleriz.\n",
    "            pt1 = (0,0)\n",
    "            pt2 = (0,0)\n",
    "            topLeft_clicked = False\n",
    "            botRight_clicked = False\n",
    "        \n",
    "        if topLeft_clicked == False: #sol click tıklanmışsa değerimizi true ve o koordinatları pt1 değişkenine eşitleriz\n",
    "            pt1 = (x,y)\n",
    "            topLeft_clicked = True\n",
    "        elif botRight_clicked == False: #sağ click tıklanmışsa değerimizi true ve o koordinatları pt2 değişkenine eşitleriz\n",
    "            pt2 = (x,y)\n",
    "            botRight_clicked =True\n",
    "\n",
    "#global değişkenlerim\n",
    "pt1 = (0,0)\n",
    "pt2 = (0,0)\n",
    "topLeft_clicked = False\n",
    "botRight_clicked = False\n",
    "\n",
    "cap = cv2.VideoCapture(0) #Görüntüyü webcam den alıyoruz\n",
    "cv2.namedWindow('test')\n",
    "cv2.setMouseCallback('test',dikdortgen_ciz)\n",
    "\n",
    "# width = int(cap.get(cv2.CAP_PROP_FRAME_WIDTH))  #görümtümüzün genişliğini buluruz\n",
    "# height = int(cap.get(cv2.CAP_PROP_FRAME_HEIGHT)) #görümtümüzün yüksekliğini buluruz\n",
    "# x = width // 2 \n",
    "# y = height // 2\n",
    "# w =width // 4\n",
    "# h =height //4 \n",
    "while True:          #sonsuz bir döngü oluştururuz\n",
    "    ret,frame = cap.read()  #framelerimizi okuruz\n",
    "    frame = cv2.flip(frame,1)  #frameleri y eksenine göre yansıtırız\n",
    "\n",
    "    if topLeft_clicked == True:  #eğer sol click tıklanmışsa o koordinatlara  içi dolu yuvarlak  çizdiririz\n",
    "        cv2.circle(frame,pt1,5,(0,0,0),-1) \n",
    "    if topLeft_clicked and botRight_clicked: #eğer sol ve sağ tık tıklanmışsa pt1 ve pt2 köşe noktaları belirlenmiş bir dikdörtgen çizdiririz\n",
    "        cv2.circle(frame,pt2,5,(0,0,0),-1)\n",
    "        cv2.rectangle(frame,pt1,pt2,(0,0,0),2)\n",
    "\n",
    "    cv2.imshow('test',frame)  #framelerimizi imshowlarız\n",
    "    if cv2.waitKey(1)==ord('q'):  #q tuşuna basınca döngümüzü sonlandırırız\n",
    "        break\n",
    "\n",
    "cap.release()  #görüntüyü serbest bırakırız\n",
    "cv2.destroyAllWindows()  #tüm pencereleri kapatırız"
   ]
  }
 ],
 "metadata": {
  "kernelspec": {
   "display_name": "Python 3",
   "language": "python",
   "name": "python3"
  },
  "language_info": {
   "name": "python",
   "version": "3.11.0"
  },
  "orig_nbformat": 4
 },
 "nbformat": 4,
 "nbformat_minor": 2
}
