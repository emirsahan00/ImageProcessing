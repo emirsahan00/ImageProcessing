{
 "cells": [
  {
   "attachments": {},
   "cell_type": "markdown",
   "metadata": {},
   "source": [
    "HISTOGRAM"
   ]
  },
  {
   "cell_type": "code",
   "execution_count": null,
   "metadata": {},
   "outputs": [],
   "source": [
    "import cv2 #gerekli kütüphanelerimizi aktarıyoruz\n",
    "import numpy as np\n",
    "import matplotlib.pyplot as plt\n",
    "%matplotlib inline\n",
    "\n",
    "dark_horse = cv2.imread(\"d:CV_WithPython/DATA/horse.jpg\") #resimlerimizi diskten alıyoruz\n",
    "rainbow =cv2.imread(\"d:CV_WithPython/DATA/rainbow.jpg\")\n",
    "red_bricks = cv2.imread(\"d:CV_WithPython/DATA/bricks.jpg\")\n",
    "\n",
    "dark_horse = cv2.cvtColor(dark_horse,cv2.COLOR_BGR2RGB) #resimlerimizi bgr formatından rgb formatına çeviriyoruz\n",
    "rainbow = cv2.cvtColor(rainbow,cv2.COLOR_BGR2RGB)\n",
    "red_bricks = cv2.cvtColor(red_bricks,cv2.COLOR_BGR2RGB)\n",
    "\n",
    "hist_values1 = cv2.calcHist([dark_horse],channels=[0],mask=None,histSize=[256],ranges=[0,256])  #histogram grafikerlini çıkarıyoruz\n",
    "hist_values2 = cv2.calcHist([rainbow],channels=[0],mask=None,histSize=[256],ranges=[0,256])\n",
    "hist_values3 = cv2.calcHist([red_bricks],channels=[0],mask=None,histSize=[256],ranges=[0,256])\n",
    "#plt.plot(hist_values2)\n",
    "\n",
    "img = red_bricks \n",
    "\n",
    "color = ('b','g','r') \n",
    "\n",
    "for i,col in enumerate(color):   #histohramları b - g - r olarak ayırıyoruz\n",
    "    histr = cv2.calcHist([img],[i],None,[256],[0,256])\n",
    "    plt.plot(histr,color=col)\n",
    "    plt.xlim([0,250])\n",
    "     \n",
    "plt.title('HISTOGRAM')  #histogram grafiğine isim veriyoruz"
   ]
  }
 ],
 "metadata": {
  "kernelspec": {
   "display_name": "Python 3",
   "language": "python",
   "name": "python3"
  },
  "language_info": {
   "name": "python",
   "version": "3.11.0"
  },
  "orig_nbformat": 4
 },
 "nbformat": 4,
 "nbformat_minor": 2
}
