{
 "cells": [
  {
   "attachments": {},
   "cell_type": "markdown",
   "metadata": {},
   "source": [
    "BOYUTLANDIRMA & RENK DÖNÜŞÜMLERİ"
   ]
  },
  {
   "cell_type": "code",
   "execution_count": null,
   "metadata": {},
   "outputs": [],
   "source": [
    "#gerekli kütüphanelerimizi aktarıyoruz\n",
    "import matplotlib.pyplot as plt\n",
    "%matplotlib inline\n",
    "import cv2\n",
    "\n",
    "\n",
    "img = cv2.imread(\"d:CV_WithPython/DATA/kopek.jpg\")\n",
    "\n",
    "plt.imshow(img) #kopegin renginin farklı olmasının sebebi matplotlib -->RGB OpenCV --> BGR\n",
    "fix_img =cv2.cvtColor(img,cv2.COLOR_BGR2RGB)\n",
    "plt.imshow(fix_img)\n",
    "print(fix_img.shape)\n",
    "img_gray = cv2.imread(\"d:CV_WithPython/DATA/kopek.jpg\",cv2.IMREAD_GRAYSCALE)\n",
    "plt.imshow(img_gray,cmap=\"gray\")\n",
    "plt.imshow(img_gray,cmap=\"magma\")\n",
    "new_resize = cv2.resize(fix_img,(1800,600))\n",
    "plt.imshow(new_resize)\n",
    "\n",
    "w_ratio = 0.5\n",
    "h_raito = 0.5\n",
    "\n",
    "new_half_resize = cv2.resize(fix_img,(0,0),fix_img,w_ratio,h_raito)\n",
    "plt.imshow(new_half_resize)\n",
    "print(new_half_resize.shape) \n",
    "flip = cv2.flip(fix_img,0)  #x ekseninde fotoğrafımı çevirdim  (hem x hem y için '-1')"
   ]
  }
 ],
 "metadata": {
  "kernelspec": {
   "display_name": "Python 3",
   "language": "python",
   "name": "python3"
  },
  "language_info": {
   "name": "python",
   "version": "3.11.0"
  },
  "orig_nbformat": 4
 },
 "nbformat": 4,
 "nbformat_minor": 2
}
