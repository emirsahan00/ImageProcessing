{
 "cells": [
  {
   "attachments": {},
   "cell_type": "markdown",
   "metadata": {},
   "source": [
    "EDGE DETECTION"
   ]
  },
  {
   "cell_type": "code",
   "execution_count": null,
   "metadata": {},
   "outputs": [],
   "source": [
    "import cv2  #gerekli kütüphanelerimizi aktarıyoruz\n",
    "import matplotlib.pyplot as plt\n",
    "%matplotlib inline\n",
    "import numpy as np\n",
    "\n",
    "img=cv2.imread('d:CV_WithPython/DATA/dog_face.jpg')  #resimi diskten alıyoruz\n",
    "\n",
    "blurred = cv2.blur(img,(5,5))  #görüntümüzü blurluyoruz\n",
    "edges = cv2.Canny(blurred,80,100)  #blurlu görüntünün kenarlarını saptıyoruz\n",
    "plt.imshow(edges) \n"
   ]
  }
 ],
 "metadata": {
  "kernelspec": {
   "display_name": "Python 3",
   "language": "python",
   "name": "python3"
  },
  "language_info": {
   "name": "python",
   "version": "3.11.0"
  },
  "orig_nbformat": 4
 },
 "nbformat": 4,
 "nbformat_minor": 2
}
