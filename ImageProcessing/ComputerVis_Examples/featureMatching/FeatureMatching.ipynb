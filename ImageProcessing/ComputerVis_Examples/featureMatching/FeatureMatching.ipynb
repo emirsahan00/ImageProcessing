{
 "cells": [
  {
   "attachments": {},
   "cell_type": "markdown",
   "metadata": {},
   "source": [
    "FEATRUE MATCHING"
   ]
  },
  {
   "cell_type": "code",
   "execution_count": null,
   "metadata": {},
   "outputs": [],
   "source": [
    "import cv2  #gerekli kütüphanelerimizi aktarıyoruz\n",
    "import matplotlib.pyplot as plt\n",
    "%matplotlib inline\n",
    "import numpy as np\n",
    "\n",
    "#Brute Force Detection With ORB Descriptors\n",
    "\n",
    "def display(img,cmap='gray'):\n",
    "    fig = plt.figure(figsize=(12,10))\n",
    "    ax=fig.add_subplot(111)\n",
    "    ax.imshow(img,cmap='gray')\n",
    "\n",
    "urun = cv2.imread('D:CV_WithPython/DATA/kahvaltilik.png',0) #görüntülerimizi diskten alıyoruz\n",
    "raf = cv2.imread('d:CV_WithPython/DATA/raf.jpg',0)\n",
    "\n",
    "\n",
    "orb = cv2.ORB_create()   # eşlenikleri bu obje ustunden oluşturuyoruz\n",
    "\n",
    "keyPoint1 , dest1 = orb.detectAndCompute(urun,None)\n",
    "keyPoint2 , dest2 = orb.detectAndCompute(raf,None)\n",
    "\n",
    "bf = cv2.BFMatcher(cv2.NORM_HAMMING,crossCheck=True) # eşlenikleri bu obje ustunden oluşturuyoruz\n",
    "matches = bf.match(dest1,dest2)\n",
    "\n",
    "matches = sorted(matches,key=lambda x:x.distance)  #mesafe(uzaklıklarına) göre sınıflandırdık \n",
    "\n",
    "cizdirme = cv2.drawMatches(urun,keyPoint1,raf,keyPoint2,matches[:25],None,flags=2) #ve eşlenik değerlerimizi çizdirdik\n",
    "display(cizdirme)\n"
   ]
  },
  {
   "cell_type": "code",
   "execution_count": null,
   "metadata": {},
   "outputs": [],
   "source": [
    "#Brute-Force Matching ile SIFT Descriptors ve Ratio Test\n",
    "\n",
    "sift = cv2.xfeatures2d.SIFT_create()  \n",
    "keyPoint1 ,dest1 = sift.detectAndCompute(urun,None)\n",
    "keyPoint2 ,dest2 = sift.detectAndCompute(raf,None)\n",
    "\n",
    "bf = cv2.BFMatcher() # eşlenikleri bu obje ustunden oluşturuyoruz\n",
    "matches = bf.knnMatch(dest1,dest2,k=2) #kaç tane en iyi olaslığa sahip değer tutalım = k\n",
    "\n",
    "good = []  #good isminde bir liste oluşturuyoruz\n",
    "\n",
    "for match1,match2 in matches: #burda mathces değerlerinin içinde gezinecek bir döngü başlatıyoruz\n",
    "    if match1.distance < 0.75*match2.distance: #eşlenik olma ihtimali en yüksek olan değerleri good listesine ekliyoruz\n",
    "        good.append([match1])\n",
    "\n",
    "cizdirme2 = cv2.drawMatchesKnn(urun,keyPoint1,raf,keyPoint2,good,None,flags=2) #ve eşlenik değerlerimizi çizdirdik\n",
    "display(cizdirme2) \n"
   ]
  },
  {
   "cell_type": "code",
   "execution_count": null,
   "metadata": {},
   "outputs": [],
   "source": [
    "# FLANN BASED MATCHER\n",
    "\n",
    "sift = cv2.xfeatures2d.SIFT_create()  \n",
    "keyPoint1 ,dest1 = sift.detectAndCompute(urun,None)\n",
    "keyPoint2 ,dest2 = sift.detectAndCompute(raf,None)\n",
    "\n",
    "FLANN_INDEX_KDTREE = 0 #default değerlerimizi belirliyoruz\n",
    "index_params = dict(algorithm = FLANN_INDEX_KDTREE,trees =5)\n",
    "search_params = dict(checks=50) \n",
    "\n",
    "flann = cv2.FlannBasedMatcher(index_params,search_params) # eşlenikleri bu obje ustunden oluşturuyoruz\n",
    "matches = flann.knnMatch(dest1,dest2,k=2) #kaç tane en iyi olaslığa sahip değer tutalım = k\n",
    "\n",
    "good = []   #good isminde bir liste oluşturuyoruz \n",
    "\n",
    "for i,(match1,match2) in enumerate(matches): #burda mathces değerlerinin içinde gezinecek bir döngü başlatıyoruz\n",
    "    if match1.distance < 0.7*match2.distance: #eşlenik olma ihtimali en yüksek olan değerleri good listesine ekliyoruz\n",
    "        good.append([match1])\n",
    "\n",
    "cizdirme2 = cv2.drawMatchesKnn(urun,keyPoint1,raf,keyPoint2,good,None,flags=0) #ve eşlenik değerlerimizi çizdirdik\n",
    "\n",
    "display(cizdirme2)\n"
   ]
  }
 ],
 "metadata": {
  "kernelspec": {
   "display_name": "Python 3",
   "language": "python",
   "name": "python3"
  },
  "language_info": {
   "name": "python",
   "version": "3.11.0"
  },
  "orig_nbformat": 4
 },
 "nbformat": 4,
 "nbformat_minor": 2
}
