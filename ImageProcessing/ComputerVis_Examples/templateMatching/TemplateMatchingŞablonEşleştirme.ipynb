{
 "cells": [
  {
   "attachments": {},
   "cell_type": "markdown",
   "metadata": {},
   "source": [
    "TEMPLATE MATCHING(ŞABLON EŞLEŞTİRME)"
   ]
  },
  {
   "cell_type": "code",
   "execution_count": null,
   "metadata": {},
   "outputs": [],
   "source": [
    "import cv2  #gerekli kütüphanelerimizi aktarıyoruz\n",
    "import numpy as np\n",
    "import matplotlib.pyplot as plt\n",
    "%matplotlib inline\n",
    "\n",
    "dog = cv2.imread(\"d:CV_WithPython/DATA/dog.jpg\")   #resimlerimizi diskten alıyoruz\n",
    "dog_face = cv2.imread(\"d:CV_WithPython/DATA/dog_face.jpg\")\n",
    "\n",
    "dog= cv2.cvtColor(dog,cv2.COLOR_BGR2RGB) #resimlerimizi bgr formatından rgb formatına dönüştürüyoruz\n",
    "dog_face = cv2.cvtColor(dog_face,cv2.COLOR_BGR2RGB)\n",
    "# mystring = 'sum'\n",
    "# eval(mystring)\n",
    "# my_func = eval(mystring)\n",
    "# my_func([1,2,3])\n",
    "\n",
    "my_method = eval('cv2.TM_CCOEFF')  \n",
    "res = cv2.matchTemplate(dog,dog_face,my_method) #eşleşen görüntülerin başlangıç noktası parlak olur.\n",
    "\n",
    "plt.imshow(res) #res değişkenimizdeki resmimizi gösteriyoruz\n",
    "\n"
   ]
  },
  {
   "cell_type": "code",
   "execution_count": null,
   "metadata": {},
   "outputs": [],
   "source": [
    "import cv2 #gerekli kütüphanelerimizi aktarıyoruz\n",
    "import numpy as np\n",
    "import matplotlib.pyplot as plt\n",
    "%matplotlib inline\n",
    "\n",
    "dog = cv2.imread(\"d:CV_WithPython/DATA/dog.jpg\")  #resimlerimizi diskten alıyoruz\n",
    "dog_face = cv2.imread(\"d:CV_WithPython/DATA/dog_face.jpg\")\n",
    "\n",
    "dog = cv2.cvtColor(dog,cv2.COLOR_BGR2RGB)   #resimlerimizi bgr formatından rgb formatına dönüştürüyoruz\n",
    "dog_face = cv2.cvtColor(dog_face,cv2.COLOR_BGR2RGB)\n",
    "height,width,channels = dog_face.shape #resmin genişlik yükseklik değerlerini buluyoruz\n",
    "\n",
    "methods = ['cv2.TM_CCOEFF','cv2.TM_CCOEFF_NORMED','cv2.TM_CCORR','cv2.TM_CCORR_NORMED','cv2.TM_SQDIFF','cv2.TM_SQDIFF_NORMED'] #openCV dökümanlarından methodalarımızı alıyoruz\n",
    "\n",
    "for m in methods:  #m isimli değişken ile methods listesinde gezinelim \n",
    "    dog_copy = dog.copy()   #resmimizi kopyalıyoruz\n",
    "    method = eval(m)            \n",
    "    res = cv2.matchTemplate(dog_copy,dog_face,method) # methodumuz ile şablon arıyoruz\n",
    "\n",
    "    min_value,max_value,min_loc,max_loc = cv2.minMaxLoc(res)  #eşleşen şablondaki koordinatları döndürüyoruz\n",
    "\n",
    "\n",
    "    if method in ['cv2.TM_SQDIFF','cv2.TM_SQDIFF_NORMED']:    #eğer method bu ikisinden biri ise \n",
    "        top_left = min_loc\n",
    "    else:      #değilse\n",
    "        top_left = max_loc\n",
    "    \n",
    "    bottomRight = (top_left[0]+width,top_left[1]+height)  #sağ alt noktayı belirliyoruz\n",
    "    cv2.rectangle(dog_copy,top_left,bottomRight,(255,0,0),3)  #eşleşen şablondan gelen koordinatlarla birlikte dikdörtgenimizi çiziyoruz\n",
    "\n",
    "    plt.subplot(121)    #grafik oluştururuz\n",
    "    plt.imshow(res) \n",
    "    plt.title('template matching işlemi')\n",
    "\n",
    "    plt.subplot(122)    #grafik oluştururuz\n",
    "    plt.imshow(dog_copy)\n",
    "    plt.title('detection işlemi')\n",
    "\n",
    "    plt.suptitle(m)\n",
    "    plt.show() \n",
    "    print(\"\\n\")     #bir satır aşağı atıyoruz\n",
    "\n",
    "\n"
   ]
  }
 ],
 "metadata": {
  "kernelspec": {
   "display_name": "Python 3",
   "language": "python",
   "name": "python3"
  },
  "language_info": {
   "name": "python",
   "version": "3.11.0"
  },
  "orig_nbformat": 4
 },
 "nbformat": 4,
 "nbformat_minor": 2
}
