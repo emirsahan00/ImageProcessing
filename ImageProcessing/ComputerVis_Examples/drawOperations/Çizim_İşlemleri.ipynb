{
 "cells": [
  {
   "attachments": {},
   "cell_type": "markdown",
   "metadata": {},
   "source": [
    "ÇİZİM İŞLEMLERİ"
   ]
  },
  {
   "cell_type": "code",
   "execution_count": null,
   "metadata": {},
   "outputs": [],
   "source": [
    "#gerekli kütüphanelerimizi aktarıyoruz\n",
    "import matplotlib.pyplot as plt\n",
    "%matplotlib inline\n",
    "import numpy as np\n",
    "import cv2\n",
    "bos_foto = np.zeros((512,512,3),np.uint16)  #her degeri int olsun diye'np.uint16'\n",
    "cv2.rectangle(bos_foto,(100,100),(400,400),(255,0,0),3) #sol üst köşeden sağ alt köşeye\n",
    "cv2.circle(bos_foto,center=(250,250),radius=80,color=(255,255,255),thickness=7)\n",
    "cv2.circle(bos_foto,center=(250,250),radius=40,color=(255,255,255),thickness=-1)\n",
    "cv2.line(bos_foto,(400,100),(100,400),color=(255,255,255),thickness=6)\n",
    "cv2.putText(bos_foto,'Hello World',(135,390),cv2.FONT_HERSHEY_SIMPLEX,fontScale=1.5,color=(0,255,0),thickness=2)\n",
    "\n",
    "#noktalar = np.array([[100,300],[200,200],[400,300],[200,400]],dtype=np.uint32)\n",
    "#cv2.polylines(bos_foto,[noktalar],isClosed=True,color=(255,0,0),thickness=5)\n",
    "plt.imshow(bos_foto)"
   ]
  }
 ],
 "metadata": {
  "kernelspec": {
   "display_name": "Python 3",
   "language": "python",
   "name": "python3"
  },
  "language_info": {
   "name": "python",
   "version": "3.11.0"
  },
  "orig_nbformat": 4
 },
 "nbformat": 4,
 "nbformat_minor": 2
}
