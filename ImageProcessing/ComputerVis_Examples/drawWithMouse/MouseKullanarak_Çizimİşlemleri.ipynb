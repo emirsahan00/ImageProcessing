{
 "cells": [
  {
   "attachments": {},
   "cell_type": "markdown",
   "metadata": {},
   "source": [
    "MOUSE KULLANARAK ÇİZİM İŞLEMLERİ "
   ]
  },
  {
   "cell_type": "code",
   "execution_count": null,
   "metadata": {},
   "outputs": [],
   "source": [
    "#gerekli kütüphanelerimizi aktarıyoruz\n",
    "import numpy as np\n",
    "import cv2\n",
    "\n",
    "def daire_ciz(event,x,y,flags,param):\n",
    "    if event ==cv2.EVENT_LBUTTONDOWN:  #eğer mouse ile sol click yaptıysam\n",
    "        cv2.circle(img,(x,y),80,(0,255,0),-1) #o koordinatlara yeşil içi dolu bir yuvarlak çiz\n",
    "    elif event == cv2.EVENT_RBUTTONDOWN: #eğer mouse ile sağ click yaptıysam \n",
    "        cv2.circle(img,(x,y),80,(0,0,255),1) #o koordinatlara kırmızı içi boş bir yuvarlak çiz\n",
    "\n",
    "\n",
    "cv2.namedWindow('deneme')\n",
    "cv2.setMouseCallback('deneme',daire_ciz) #mousemizde gerçekleşen olayları 'daire_ciz' fonkisyonuda iletir.\n",
    "\n",
    "img = np.zeros((512,512,3),dtype=np.uint32) #siyah bir görüntü oluşturduk\n",
    "\n",
    "while True:           #görüntümüzü sonsuz bir döngüyle imshowladık\n",
    "    img = img.astype(np.uint8) \n",
    "    cv2.imshow('deneme',img)\n",
    "    if cv2.waitKey(20) == ord('q'):\n",
    "        break\n",
    "cv2.destroyAllWindows()"
   ]
  }
 ],
 "metadata": {
  "kernelspec": {
   "display_name": "Python 3",
   "language": "python",
   "name": "python3"
  },
  "language_info": {
   "name": "python",
   "version": "3.11.0"
  },
  "orig_nbformat": 4
 },
 "nbformat": 4,
 "nbformat_minor": 2
}
