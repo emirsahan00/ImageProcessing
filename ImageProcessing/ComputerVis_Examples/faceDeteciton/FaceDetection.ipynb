{
 "cells": [
  {
   "attachments": {},
   "cell_type": "markdown",
   "metadata": {},
   "source": [
    "FACE DETECTION"
   ]
  },
  {
   "cell_type": "code",
   "execution_count": null,
   "metadata": {},
   "outputs": [],
   "source": [
    "# gerekli paketleri(kütüphaneleri) içe aktarıyoruz\n",
    "import numpy as np\n",
    "import cv2\n",
    "import matplotlib.pyplot as plt\n",
    "%matplotlib inline\n",
    "\n",
    "erkek =cv2.imread('d:CV_WithPython/DATA/erkek.jpg')  #yüz kısmını tespit edecek görüntülerimizi diskten alıyoruz\n",
    "kadin =cv2.imread('d:CV_WithPython/DATA/kadin.jpg')\n",
    "toplu =cv2.imread('d:CV_WithPython/DATA/toplu_foto.jpg')\n",
    "\n",
    "face_cascade = cv2.CascadeClassifier('D:/CV_WithPython/DATA/haarcascades/haarcascade_frontalface_default.xml')  #cascade xml dosyasını aktarıyoruz\n",
    "\n",
    "def detect_face(img):  #yüz tespitinin dinamik olması için fonksiyon oluşturuyoruz\n",
    "    face_img = img.copy() #gelen resmin kopyasını face_img değişkenine atıyoruz\n",
    "    face_rects = face_cascade.detectMultiScale(face_img) #yüz kısmının koordinatlarını döndürüyoruz\n",
    "\n",
    "    for (x,y,w,h) in face_rects:  #koordinatları cv2.rectangle fonksiyonu ile sınırlayıcı bir etiket atıyoruz\n",
    "        cv2.rectangle(face_img,(x,y),(x+w,y+h),(0,0,0),2)\n",
    "    return face_img #face_img'i döndürüyoruz\n",
    "\n",
    "result = detect_face(toplu) \n",
    "plt.imshow(result,cmap='gray')"
   ]
  }
 ],
 "metadata": {
  "kernelspec": {
   "display_name": "Python 3",
   "language": "python",
   "name": "python3"
  },
  "language_info": {
   "name": "python",
   "version": "3.11.0"
  },
  "orig_nbformat": 4
 },
 "nbformat": 4,
 "nbformat_minor": 2
}
