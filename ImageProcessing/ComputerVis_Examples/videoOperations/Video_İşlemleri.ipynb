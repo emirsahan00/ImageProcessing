{
 "cells": [
  {
   "attachments": {},
   "cell_type": "markdown",
   "metadata": {},
   "source": [
    "VİDEO İŞLEMLERİ"
   ]
  },
  {
   "cell_type": "code",
   "execution_count": null,
   "metadata": {},
   "outputs": [],
   "source": [
    "import cv2 #gerekli kütüphanelerimizi aktarıyoruz\n",
    "import time\n",
    "\n",
    "cap = cv2.VideoCapture(\"d:CV_WithPython/DATA/computer_vision.mp4\")  #görüntüyü diskten alıyoruz\n",
    "\n",
    "if cap.isOpened() == False:  #diskten aldığımız görüntü eğer açılmazsa \n",
    "    print('Videoya bağlanmadı')  #' Videoya bağlanmadı ' yazısını bastırıyoruz\n",
    "\n",
    "while True:  #sonsuz döngü başaltıyorz\n",
    "    ret,frame =cap.read()  #frameleri okuyıruz  \n",
    "\n",
    "    if ret ==True:  \n",
    "        cv2.imshow('frame',frame)\n",
    "        time.sleep(1/20)  # 1/20 milisaniye frameleri durduruyoruz (videodan seyrini yavaşlatmak için)\n",
    "\n",
    "        if cv2.waitKey(20)==ord('q'):  # 'q' tuşuna basılırsa frameleri durduruyoruz\n",
    "            break\n",
    "\n",
    "    else:\n",
    "        break\n",
    "\n",
    "cap.release()  #görüntüyü serbest bırakıp tüm pencereleri kapatıyoruz\n",
    "cv2.destroyAllWindows()"
   ]
  }
 ],
 "metadata": {
  "kernelspec": {
   "display_name": "Python 3",
   "language": "python",
   "name": "python3"
  },
  "language_info": {
   "name": "python",
   "version": "3.11.0"
  },
  "orig_nbformat": 4
 },
 "nbformat": 4,
 "nbformat_minor": 2
}
