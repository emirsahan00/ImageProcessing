{
 "cells": [
  {
   "attachments": {},
   "cell_type": "markdown",
   "metadata": {},
   "source": [
    "BLURING & SMOOTING "
   ]
  },
  {
   "cell_type": "code",
   "execution_count": null,
   "metadata": {},
   "outputs": [],
   "source": [
    "#gerekli kütüphanelerimizi aktarıyoruz\n",
    "import cv2\n",
    "import numpy as np\n",
    "\n",
    "img = cv2.imread(\"d:CV_WithPython/DATA/bricks.jpg\")  #resimlerimizi diskten alıyoruz\n",
    "img_animal = cv2.imread(\"d:CV_WithPython/DATA/animal.jpg\")\n",
    "\n",
    "\n",
    "gamma = 1/32      #parlaklık parameteresi\n",
    "result =  np.power(img,gamma)  #resmin parlaklığını artırıyoruz\n",
    "\n",
    "blured = cv2.blur(img,(5,5))\n",
    "medBlur = cv2.medianBlur(img_animal,5)\n",
    "\n",
    "cv2.imshow(\"deneme\",result) #belirli işlemlerden geçmiş resimlerimizi uyguluyoruz\n",
    "cv2.imshow(\"deneme2\",blured)\n",
    "cv2.imshow(\"deneme2.5\",img_animal)\n",
    "cv2.imshow(\"deneme3\",medBlur)\n",
    "\n",
    "cv2.waitKey(0) #ekranda kalmasını sağlıyoruz\n",
    "cv2.destroyAllWindows() #tüm pencereleri kapatıyoruz"
   ]
  }
 ],
 "metadata": {
  "kernelspec": {
   "display_name": "Python 3",
   "language": "python",
   "name": "python3"
  },
  "language_info": {
   "name": "python",
   "version": "3.11.0"
  },
  "orig_nbformat": 4
 },
 "nbformat": 4,
 "nbformat_minor": 2
}
